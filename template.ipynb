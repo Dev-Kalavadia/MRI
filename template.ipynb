{
 "cells": [
  {
   "cell_type": "code",
   "execution_count": 1,
   "metadata": {},
   "outputs": [
    {
     "name": "stdout",
     "output_type": "stream",
     "text": [
      "Requirement already satisfied: Flask in /Users/devkalavadiya/opt/anaconda3/lib/python3.9/site-packages (1.1.2)\n",
      "Requirement already satisfied: Werkzeug>=0.15 in /Users/devkalavadiya/opt/anaconda3/lib/python3.9/site-packages (from Flask) (2.0.3)\n",
      "Requirement already satisfied: Jinja2>=2.10.1 in /Users/devkalavadiya/opt/anaconda3/lib/python3.9/site-packages (from Flask) (2.11.3)\n",
      "Requirement already satisfied: itsdangerous>=0.24 in /Users/devkalavadiya/opt/anaconda3/lib/python3.9/site-packages (from Flask) (2.0.1)\n",
      "Requirement already satisfied: click>=5.1 in /Users/devkalavadiya/opt/anaconda3/lib/python3.9/site-packages (from Flask) (8.0.4)\n",
      "Requirement already satisfied: MarkupSafe>=0.23 in /Users/devkalavadiya/opt/anaconda3/lib/python3.9/site-packages (from Jinja2>=2.10.1->Flask) (2.0.1)\n"
     ]
    }
   ],
   "source": [
    "!pip install Flask\n"
   ]
  },
  {
   "cell_type": "code",
   "execution_count": 1,
   "metadata": {},
   "outputs": [
    {
     "ename": "ModuleNotFoundError",
     "evalue": "No module named 'flask'",
     "output_type": "error",
     "traceback": [
      "\u001b[0;31m---------------------------------------------------------------------------\u001b[0m",
      "\u001b[0;31mModuleNotFoundError\u001b[0m                       Traceback (most recent call last)",
      "\u001b[1;32m/Users/devkalavadiya/Desktop/MRI/template.ipynb Cell 2\u001b[0m line \u001b[0;36m1\n\u001b[0;32m----> <a href='vscode-notebook-cell:/Users/devkalavadiya/Desktop/MRI/template.ipynb#W1sZmlsZQ%3D%3D?line=0'>1</a>\u001b[0m \u001b[39mfrom\u001b[39;00m \u001b[39mflask\u001b[39;00m \u001b[39mimport\u001b[39;00m Flask, render_template\n\u001b[1;32m      <a href='vscode-notebook-cell:/Users/devkalavadiya/Desktop/MRI/template.ipynb#W1sZmlsZQ%3D%3D?line=2'>3</a>\u001b[0m app \u001b[39m=\u001b[39m Flask(\u001b[39m__name__\u001b[39m)\n\u001b[1;32m      <a href='vscode-notebook-cell:/Users/devkalavadiya/Desktop/MRI/template.ipynb#W1sZmlsZQ%3D%3D?line=4'>5</a>\u001b[0m \u001b[39m@app\u001b[39m\u001b[39m.\u001b[39mroute(\u001b[39m'\u001b[39m\u001b[39m/\u001b[39m\u001b[39m'\u001b[39m)\n\u001b[1;32m      <a href='vscode-notebook-cell:/Users/devkalavadiya/Desktop/MRI/template.ipynb#W1sZmlsZQ%3D%3D?line=5'>6</a>\u001b[0m \u001b[39mdef\u001b[39;00m \u001b[39mreport\u001b[39m():\n\u001b[1;32m      <a href='vscode-notebook-cell:/Users/devkalavadiya/Desktop/MRI/template.ipynb#W1sZmlsZQ%3D%3D?line=6'>7</a>\u001b[0m     \u001b[39m# Here you would get your data, for example from a database or a CSV file\u001b[39;00m\n",
      "\u001b[0;31mModuleNotFoundError\u001b[0m: No module named 'flask'"
     ]
    }
   ],
   "source": [
    "from flask import Flask, render_template\n",
    "\n",
    "app = Flask(__name__)\n",
    "\n",
    "@app.route('/')\n",
    "def report():\n",
    "    # Here you would get your data, for example from a database or a CSV file\n",
    "    data = get_your_data()\n",
    "    return render_template('report.html', data=data)\n",
    "\n",
    "if __name__ == '__main__':\n",
    "    app.run(debug=True)\n"
   ]
  }
 ],
 "metadata": {
  "kernelspec": {
   "display_name": "Python 3",
   "language": "python",
   "name": "python3"
  },
  "language_info": {
   "codemirror_mode": {
    "name": "ipython",
    "version": 3
   },
   "file_extension": ".py",
   "mimetype": "text/x-python",
   "name": "python",
   "nbconvert_exporter": "python",
   "pygments_lexer": "ipython3",
   "version": "3.9.9"
  }
 },
 "nbformat": 4,
 "nbformat_minor": 2
}
